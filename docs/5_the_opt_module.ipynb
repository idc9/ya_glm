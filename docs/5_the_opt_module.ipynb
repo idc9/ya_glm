{
 "cells": [
  {
   "cell_type": "markdown",
   "metadata": {},
   "source": [
    "This notebook shows how to use yaglm's `opt` module that is built around FISTA. We start with a minimial example illustrating the two parts of the `opt` module 1) constructing the objective function with smooth/non-smooth function objects and 2) using the FISTA algorithm. We then dig into several of the bells and whistles that come with the opt module.\n",
    "\n",
    "Recall that FISTA works for optimization problems that look like \n",
    "\n",
    "$$ \\text{minimize}_{\\theta} f(\\theta) + p(\\theta)$$\n",
    "\n",
    "where $f(\\cdot)$ is a smooth function and $p(\\cdot)$ is a non-smooth function that has an easy to evaluate proximal operator.\n"
   ]
  },
  {
   "cell_type": "code",
   "execution_count": 22,
   "metadata": {},
   "outputs": [],
   "source": [
    "import numpy as np\n",
    "import matplotlib.pyplot as plt\n",
    "from yaglm.toy_data import sample_sparse_lin_reg"
   ]
  },
  {
   "cell_type": "code",
   "execution_count": 2,
   "metadata": {},
   "outputs": [],
   "source": [
    "# toy linear regression data\n",
    "n_features = 10\n",
    "X, y, model_info = sample_sparse_lin_reg(n_samples=100,\n",
    "                                         n_features=n_features,\n",
    "                                         beta_type=2, random_state=1)"
   ]
  },
  {
   "cell_type": "markdown",
   "metadata": {},
   "source": [
    "# 1) Basic illustration of the opt module"
   ]
  },
  {
   "cell_type": "markdown",
   "metadata": {},
   "source": [
    "### Setup loss and penalty objects"
   ]
  },
  {
   "cell_type": "code",
   "execution_count": 3,
   "metadata": {},
   "outputs": [],
   "source": [
    "from yaglm.opt.glm_loss.linear_regression import LinReg\n",
    "from yaglm.opt.penalty.convex import Lasso"
   ]
  },
  {
   "cell_type": "code",
   "execution_count": 4,
   "metadata": {},
   "outputs": [],
   "source": [
    "smooth_func = LinReg(X=X, y=y, fit_intercept=False)\n",
    "\n",
    "pen_val = 1 # Lasso penalty value\n",
    "non_smooth_func = Lasso(pen_val=pen_val)"
   ]
  },
  {
   "cell_type": "code",
   "execution_count": 5,
   "metadata": {},
   "outputs": [
    {
     "name": "stdout",
     "output_type": "stream",
     "text": [
      "Least squares loss 5.36060259052983\n",
      "Lasso loss value 0.0\n",
      "Least squares gradient [-1.78367109 -1.98913908 -1.81382994 -2.09901075 -1.69731402 -0.56152831\n",
      "  0.04852157  0.67414728  0.20866805 -0.50194201]\n",
      "Lasso proximal operator [0. 0. 0. 0. 0. 0. 0. 0. 0. 0.]\n",
      "Least squares loss Lipchitz constant 2.04553754412543\n"
     ]
    }
   ],
   "source": [
    "coef = np.zeros(n_features)\n",
    "print('Least squares loss', smooth_func.eval(coef))\n",
    "print('Lasso loss value', non_smooth_func.eval(coef))\n",
    "print('Least squares gradient', smooth_func.grad(coef))\n",
    "print('Lasso proximal operator', non_smooth_func.prox(coef, step=1)) # note the proximal operator has a step size!\n",
    "print(\"Least squares loss Lipchitz constant\", smooth_func.grad_lip)\n"
   ]
  },
  {
   "cell_type": "markdown",
   "metadata": {},
   "source": [
    "### Run FISTA "
   ]
  },
  {
   "cell_type": "code",
   "execution_count": 6,
   "metadata": {},
   "outputs": [],
   "source": [
    "from yaglm.opt.algo.fista import solve_fista"
   ]
  },
  {
   "cell_type": "code",
   "execution_count": 7,
   "metadata": {},
   "outputs": [
    {
     "name": "stdout",
     "output_type": "stream",
     "text": [
      "[0.33409507 0.64610743 0.31373186 0.71872811 0.30653239 0.\n",
      " 0.         0.         0.         0.        ]\n"
     ]
    },
    {
     "data": {
      "text/plain": [
       "{'runtime': 0.0034170150756835938,\n",
       " 'history': {'objective': [5.36060259052983,\n",
       "   4.300932771143718,\n",
       "   4.287150706473769,\n",
       "   4.284024393926995,\n",
       "   4.282167667803977,\n",
       "   4.281194414885658,\n",
       "   4.280781037405891,\n",
       "   4.28067153412271,\n",
       "   4.280682407630497,\n",
       "   4.280711551008791,\n",
       "   4.280697951360532,\n",
       "   4.280688524313096,\n",
       "   4.280680356331714,\n",
       "   4.280674275148842,\n",
       "   4.280670371722292,\n",
       "   4.280668260046928,\n",
       "   4.28066736073723,\n",
       "   4.280667123461151,\n",
       "   4.280667148475202,\n",
       "   4.280667212770655,\n",
       "   4.28066718340316,\n",
       "   4.280667162997613,\n",
       "   4.280667145288062,\n",
       "   4.280667132084909,\n",
       "   4.280667123601089,\n",
       "   4.2806671190081715,\n",
       "   4.280667117051353,\n",
       "   4.280667116535066,\n",
       "   4.280667116589669,\n",
       "   4.280667116729722],\n",
       "  'restarts': [8, 9, 18, 19, 28]},\n",
       " 'stop_crit': 'x_max',\n",
       " 'stop': True,\n",
       " 'iter': 28}"
      ]
     },
     "execution_count": 7,
     "metadata": {},
     "output_type": "execute_result"
    }
   ],
   "source": [
    "soln, opt_info = solve_fista(smooth_func=smooth_func, non_smooth_func=non_smooth_func,\n",
    "                             init_val=np.zeros(n_features), # must specify initial value\n",
    "                             \n",
    "                             step='lip', # get step size from smooth loss Lipchitz constant\n",
    "                             accel=True, # use FISTA acceleration\n",
    "                             restart=True, # FISTA with restarts\n",
    "                             \n",
    "                             stop_crit='x_max', tol=1e-5, # stop when no x coordinate has moved more than 1e-5\n",
    "                             max_iter=200,\n",
    "                             \n",
    "                             tracking_level=1, # how much data to track\n",
    "                            )\n",
    "\n",
    "print(soln)\n",
    "opt_info # we the optimization history e.g. number of iterations, runtime, etc"
   ]
  },
  {
   "cell_type": "markdown",
   "metadata": {},
   "source": [
    "### Compare against sklearn solution"
   ]
  },
  {
   "cell_type": "code",
   "execution_count": 8,
   "metadata": {},
   "outputs": [
    {
     "name": "stdout",
     "output_type": "stream",
     "text": [
      "Max norm difference between sklearn and our FISTA: 5.9537272565135524e-05\n"
     ]
    }
   ],
   "source": [
    "from sklearn.linear_model import Lasso as sk_Lasso\n",
    "sk_lasso = sk_Lasso(alpha=pen_val, fit_intercept=False)\n",
    "sk_lasso.fit(X, y)\n",
    "print('Max norm difference between sklearn and our FISTA:', abs(sk_lasso.coef_ - soln).max())"
   ]
  },
  {
   "cell_type": "markdown",
   "metadata": {},
   "source": [
    "### Including an intercept\n",
    "\n",
    "To include an intercept that isn't penalized we need to\n",
    "- tell the loss function we have an intercept\n",
    "- wrap the penalty in a WithIntercept() object\n",
    "- concatenate the intercept/coefficient initializers"
   ]
  },
  {
   "cell_type": "code",
   "execution_count": 9,
   "metadata": {},
   "outputs": [],
   "source": [
    "from yaglm.opt.penalty.utils import WithIntercept"
   ]
  },
  {
   "cell_type": "code",
   "execution_count": 10,
   "metadata": {},
   "outputs": [
    {
     "name": "stdout",
     "output_type": "stream",
     "text": [
      "Coefficient max norm difference between sklearn and our FISTA: 5.467406813697284e-05\n",
      "Intercept difference between sklearn and our FISTA: 2.6193384678185883e-06\n"
     ]
    }
   ],
   "source": [
    "# specify initercept in LS loss function init\n",
    "smooth_func = LinReg(X=X, y=y, fit_intercept=True)\n",
    "\n",
    "# wrap the lasso in a WithIntercept() object to ensure the intercept is not penalized\n",
    "non_smooth_func = WithIntercept(Lasso(pen_val=pen_val))\n",
    "\n",
    "# the optimization variable is concatenation of the intercept (first coordinate) and the coefficient\n",
    "coef_init = np.zeros(n_features)\n",
    "intercept_init = 0\n",
    "init_val = np.concatenate([[intercept_init], coef_init])\n",
    "\n",
    "# Solve with FISTA\n",
    "soln_with_inter, opt_info = solve_fista(smooth_func=smooth_func, non_smooth_func=non_smooth_func,\n",
    "                                        init_val=init_val)\n",
    "# pull out coef/intecept solutions\n",
    "intercept_soln = soln_with_inter[0]\n",
    "coef_soln = soln_with_inter[1:]\n",
    "\n",
    "# Compare to sklearn\n",
    "sk_lasso = sk_Lasso(alpha=pen_val, fit_intercept=True).fit(X, y)\n",
    "print('Coefficient max norm difference between sklearn and our FISTA:', abs(sk_lasso.coef_ - coef_soln).max())\n",
    "print('Intercept difference between sklearn and our FISTA:', abs(sk_lasso.intercept_ - intercept_soln).max())"
   ]
  },
  {
   "cell_type": "markdown",
   "metadata": {},
   "source": [
    "# 2) Composite objective functions"
   ]
  },
  {
   "cell_type": "markdown",
   "metadata": {},
   "source": [
    "### penalty = generalized ridge + lasso "
   ]
  },
  {
   "cell_type": "code",
   "execution_count": 11,
   "metadata": {},
   "outputs": [],
   "source": [
    "from yaglm.opt.base import Sum\n",
    "from yaglm.opt.penalty.convex import GeneralizedRidge\n",
    "from yaglm.trend_filtering import get_tf_mat"
   ]
  },
  {
   "cell_type": "code",
   "execution_count": 12,
   "metadata": {},
   "outputs": [],
   "source": [
    "# setup a generalized ridge penalty using a first order difference trend filtering matrix\n",
    "trend_filter_mat = get_tf_mat(d=n_features, k=1)\n",
    "ridge_penalty_func = GeneralizedRidge(pen_val=1, mat=trend_filter_mat)\n",
    "ridge_penalty_func = WithIntercept(ridge_penalty_func)  # handle intercept!\n",
    "\n",
    "# Smooth loss is sum of least squares loss and generalized ridge\n",
    "LS_loss = LinReg(X=X, y=y, fit_intercept=True)\n",
    "smooth_func = Sum([LS_loss, ridge_penalty_func])\n",
    "\n",
    "# Non smooth is still Lasso\n",
    "non_smooth_func = WithIntercept(Lasso(pen_val=pen_val))\n",
    "\n",
    "# Solve with FISTA\n",
    "soln, opt_info = solve_fista(smooth_func=smooth_func, non_smooth_func=non_smooth_func,\n",
    "                             init_val=np.concatenate([[0], np.zeros(n_features)]))"
   ]
  },
  {
   "cell_type": "markdown",
   "metadata": {},
   "source": [
    "### block separable penalties \n",
    "\n",
    "E.g. put one penalty on one subset of features and another penalty on another subset of features"
   ]
  },
  {
   "cell_type": "code",
   "execution_count": 13,
   "metadata": {},
   "outputs": [],
   "source": [
    "from yaglm.opt.BlockSeparable import BlockSeparable\n",
    "from yaglm.opt.base import Zero"
   ]
  },
  {
   "cell_type": "code",
   "execution_count": 14,
   "metadata": {},
   "outputs": [
    {
     "data": {
      "text/plain": [
       "array([0.04647322, 0.99640954, 0.99477212, 1.09196743, 0.98830115,\n",
       "       1.07259316, 0.        , 0.        , 0.        , 0.        ,\n",
       "       0.        ])"
      ]
     },
     "execution_count": 14,
     "metadata": {},
     "output_type": "execute_result"
    }
   ],
   "source": [
    "# No penalty on first 5 features, Lasso penalty on last 5 features\n",
    "non_smooth_func = BlockSeparable(funcs=[Zero(), Lasso(pen_val=10)],\n",
    "                                 groups=[range(5), range(5, 10)])\n",
    "non_smooth_func = WithIntercept(non_smooth_func)\n",
    "\n",
    "soln, opt_info = solve_fista(smooth_func=LinReg(X=X, y=y, fit_intercept=True),\n",
    "                             non_smooth_func=non_smooth_func,\n",
    "                             init_val=np.concatenate([[0], np.zeros(n_features)]))\n",
    "\n",
    "soln # notice the last 5 features are zeroed out!"
   ]
  },
  {
   "cell_type": "markdown",
   "metadata": {},
   "source": [
    "# 4) Other loss functions"
   ]
  },
  {
   "cell_type": "code",
   "execution_count": 15,
   "metadata": {},
   "outputs": [],
   "source": [
    "from yaglm.opt.glm_loss.huber_regression import HuberReg\n",
    "from yaglm.opt.glm_loss.logistic_regression import LogReg\n",
    "from yaglm.opt.glm_loss.poisson_regression import PoissonReg"
   ]
  },
  {
   "cell_type": "code",
   "execution_count": 16,
   "metadata": {},
   "outputs": [
    {
     "data": {
      "text/plain": [
       "Text(0.5, 1.0, 'Poisson loss, FISTA with backtracking step size')"
      ]
     },
     "execution_count": 16,
     "metadata": {},
     "output_type": "execute_result"
    },
    {
     "data": {
      "image/png": "[encoded data removed]",
      "text/plain": [
       "<Figure size 432x288 with 1 Axes>"
      ]
     },
     "metadata": {
      "needs_background": "light"
     },
     "output_type": "display_data"
    }
   ],
   "source": [
    "# huber loss\n",
    "soln, opt_info = solve_fista(smooth_func=HuberReg(X=X, y=y, fit_intercept=False, knot=1.35),  \n",
    "                             init_val=np.zeros(n_features),\n",
    "                            )\n",
    "\n",
    "\n",
    "# logistic regression\n",
    "y_binary = (y > 0).astype(int) # logistic regresssion expects y to be binarized\n",
    "soln, opt_info = solve_fista(smooth_func=LogReg(X=X, y=y_binary, fit_intercept=False), \n",
    "                             init_val=np.zeros(n_features),\n",
    "                            )\n",
    "\n",
    "\n",
    "\n",
    "# Poisson regression\n",
    "# The Poisson loss is not Lipchtiz differentiable so we can't use setp='lip'\n",
    "# so we instead do a backtracking line search for the step seize\n",
    "y_pos = abs(y) # Poisson expects y to be potitive\n",
    "soln, opt_info = solve_fista(smooth_func=PoissonReg(X=X, y=y_pos, fit_intercept=False), \n",
    "                             init_val=np.zeros(n_features),\n",
    "                             \n",
    "                             backtracking=True, # enable backgracking line search\n",
    "                             step=1, # initial step size for backtracking line search\n",
    "                             \n",
    "                             tracking_level=1)\n",
    "\n",
    "\n",
    "plt.plot(opt_info['history']['objective'], marker='.')\n",
    "plt.xlabel(\"FISTA step\")\n",
    "plt.ylabel(\"Loss function value\")\n",
    "plt.title(\"Poisson loss, FISTA with backtracking step size\")"
   ]
  },
  {
   "cell_type": "markdown",
   "metadata": {},
   "source": [
    "# 5) Other penalties"
   ]
  },
  {
   "cell_type": "code",
   "execution_count": 17,
   "metadata": {},
   "outputs": [],
   "source": [
    "from yaglm.opt.penalty.convex import GroupElasticNet\n",
    "from yaglm.opt.penalty.nonconvex import SCAD"
   ]
  },
  {
   "cell_type": "code",
   "execution_count": 18,
   "metadata": {},
   "outputs": [],
   "source": [
    "# SCAD penalty\n",
    "scad_penalty = SCAD(pen_val=1, a=3.7)\n",
    "soln, opt_info = solve_fista(smooth_func=LinReg(X=X, y=y, fit_intercept=False),  \n",
    "                             non_smooth_func=scad_penalty,\n",
    "                             init_val=np.zeros(n_features),\n",
    "                            )\n",
    "\n",
    "# Group ElasticNet\n",
    "group_enet = GroupElasticNet(groups=[range(5), range(5, 10)], pen_val=1, mix_val=0.5)\n",
    "soln, opt_info = solve_fista(smooth_func=LinReg(X=X, y=y, fit_intercept=False),  \n",
    "                             non_smooth_func=group_enet,\n",
    "                             init_val=np.zeros(n_features),\n",
    "                            )\n"
   ]
  },
  {
   "cell_type": "markdown",
   "metadata": {},
   "source": [
    "# 6) Constraints"
   ]
  },
  {
   "cell_type": "code",
   "execution_count": 19,
   "metadata": {},
   "outputs": [],
   "source": [
    "from yaglm.opt.constraint.convex import Positive, Simplex"
   ]
  },
  {
   "cell_type": "code",
   "execution_count": 20,
   "metadata": {},
   "outputs": [
    {
     "data": {
      "text/plain": [
       "array([1.00207976, 0.99074204, 1.09582945, 0.97885717, 1.07405845,\n",
       "       0.        , 0.        , 0.        , 0.03341862, 0.        ])"
      ]
     },
     "execution_count": 20,
     "metadata": {},
     "output_type": "execute_result"
    }
   ],
   "source": [
    "# Positive orthan constraint\n",
    "soln, opt_info = solve_fista(smooth_func=LinReg(X=X, y=y, fit_intercept=False),  \n",
    "                             non_smooth_func=Positive(),\n",
    "                             init_val=np.zeros(n_features),\n",
    "                            )\n",
    "\n",
    "soln # all entries are positive"
   ]
  },
  {
   "cell_type": "code",
   "execution_count": 21,
   "metadata": {},
   "outputs": [
    {
     "data": {
      "text/plain": [
       "0.9999999999999996"
      ]
     },
     "execution_count": 21,
     "metadata": {},
     "output_type": "execute_result"
    }
   ],
   "source": [
    "# Unit simplex constraint\n",
    "soln, opt_info = solve_fista(smooth_func=LinReg(X=X, y=y, fit_intercept=False),  \n",
    "                             non_smooth_func=Simplex(mult=1), # unit simplex\n",
    "                             init_val=np.zeros(n_features),\n",
    "                            )\n",
    "\n",
    "soln.sum() # all entries are positive and sum to 1"
   ]
  },
  {
   "cell_type": "markdown",
   "metadata": {},
   "source": [
    "### Notes\n",
    "\n",
    "- The `opt` module is very general e.g. it useful beyond generalized linear models and the FISTA algorithm\n",
    "- It is designed primarily with generality in mind; other state of the art solvers can give faster results for specific problems (e.g. linear regression + lasso penalty). Optimization benchmarks are forthcoming, but in my informal experience it can be comparable or a bit slower than sklearn for the cython solvers you can find in sklearn.\n",
    "- There are probably straightforward optimizations we can make to the `opt` module in the future! Contributions are very welcome!"
   ]
  },
  {
   "cell_type": "code",
   "execution_count": null,
   "metadata": {},
   "outputs": [],
   "source": []
  }
 ],
 "metadata": {
  "kernelspec": {
   "display_name": "Python [conda env:root] *",
   "language": "python",
   "name": "conda-root-py"
  },
  "language_info": {
   "codemirror_mode": {
    "name": "ipython",
    "version": 3
   },
   "file_extension": ".py",
   "mimetype": "text/x-python",
   "name": "python",
   "nbconvert_exporter": "python",
   "pygments_lexer": "ipython3",
   "version": "3.7.4"
  }
 },
 "nbformat": 4,
 "nbformat_minor": 2
}
